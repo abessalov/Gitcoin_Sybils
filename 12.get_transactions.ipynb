{
 "cells": [
  {
   "cell_type": "markdown",
   "id": "4b61747f-a452-4c23-a6ee-6e7ac25bfa1c",
   "metadata": {
    "tags": []
   },
   "source": [
    "### Collecting and preprocessing transactions table from the Etherscan API requests "
   ]
  },
  {
   "cell_type": "code",
   "execution_count": 1,
   "id": "038e4f3b-623f-417d-b57f-9e35436fc6f4",
   "metadata": {
    "tags": []
   },
   "outputs": [
    {
     "name": "stderr",
     "output_type": "stream",
     "text": [
      "21it [00:00, 187.35it/s]"
     ]
    },
    {
     "name": "stdout",
     "output_type": "stream",
     "text": [
      "(20347, 2)\n"
     ]
    },
    {
     "name": "stderr",
     "output_type": "stream",
     "text": [
      "4070it [02:04, 32.71it/s]\n",
      "22it [00:00, 201.88it/s]"
     ]
    },
    {
     "name": "stdout",
     "output_type": "stream",
     "text": [
      "(434536, 19)\n"
     ]
    },
    {
     "name": "stderr",
     "output_type": "stream",
     "text": [
      "4070it [01:52, 36.04it/s]\n",
      "22it [00:00, 194.65it/s]"
     ]
    },
    {
     "name": "stdout",
     "output_type": "stream",
     "text": [
      "(383823, 19)\n"
     ]
    },
    {
     "name": "stderr",
     "output_type": "stream",
     "text": [
      "4069it [02:02, 33.29it/s]\n",
      "14it [00:00, 131.03it/s]"
     ]
    },
    {
     "name": "stdout",
     "output_type": "stream",
     "text": [
      "(414649, 19)\n"
     ]
    },
    {
     "name": "stderr",
     "output_type": "stream",
     "text": [
      "4069it [01:50, 36.70it/s]\n",
      "11it [00:00, 102.06it/s]"
     ]
    },
    {
     "name": "stdout",
     "output_type": "stream",
     "text": [
      "(373370, 19)\n"
     ]
    },
    {
     "name": "stderr",
     "output_type": "stream",
     "text": [
      "4069it [02:12, 30.68it/s]\n"
     ]
    },
    {
     "name": "stdout",
     "output_type": "stream",
     "text": [
      "(471802, 19)\n"
     ]
    }
   ],
   "source": [
    "TIMEZONE = 3 # this is for converting timestamp to UTC+0 datetime\n",
    "fold = 0\n",
    "df1 = pd.read_pickle(f'data/external/v2/resp/df{fold}.pkl')\n",
    "print(df1.shape)\n",
    "\n",
    "# function to get all transactions\n",
    "def get_trnx(resp, wallet):\n",
    "    # read response to table\n",
    "    out = json.loads(resp.text)['result']\n",
    "    if out == 'Max rate limit reached':\n",
    "        return pd.DataFrame()\n",
    "    df = pd.DataFrame(out)\n",
    "    if len(df) == 0:\n",
    "        return df\n",
    "    feats = ['timeStamp','from','to','value','isError']\n",
    "    df = df[feats]\n",
    "    # preprocessing\n",
    "    df['from'] = df['from'].str.lower()\n",
    "    df['to']   = df['to'].str.lower()\n",
    "    df.insert(1,'wallet',wallet)\n",
    "    df.insert(2,'wallet_add',df['to'])\n",
    "    df.loc[df.wallet_add == wallet, 'wallet_add'] = df.loc[df.wallet_add == wallet, 'from'] \n",
    "    df.insert(3,'direction',1)\n",
    "    df.loc[df['from'] == wallet, 'direction'] = 1\n",
    "    df.loc[df['to'] == wallet, 'direction'] = -1\n",
    "    del df['from']\n",
    "    del df['to']\n",
    "    df = df.rename(columns = {\n",
    "        'timeStamp': 'timestamp',\n",
    "        'isError': 'is_error',\n",
    "    })\n",
    "    # filtering\n",
    "    # df = df[df.is_error == '0']\n",
    "    # df = df[df['from'] != df['to']]\n",
    "    # del df['is_error']\n",
    "    return df\n",
    "\n",
    "# main loop\n",
    "chunk_num = 5\n",
    "df1['chunk'] = [i % chunk_num for i in range(len(df1))]\n",
    "for chunk in range(chunk_num):\n",
    "    df11 = df1[df1.chunk == chunk]\n",
    "    df = pd.DataFrame()\n",
    "    for wallet,resp in tqdm(zip(df11.wallet, df11.resp)):\n",
    "        df0 = get_trnx(resp, wallet)\n",
    "        df = pd.concat([df,df0])\n",
    "    \n",
    "    # features converting\n",
    "    df['value'] = df.value.astype(np.float)/10**18\n",
    "    df['timestamp'] = df.timestamp.astype(int)\n",
    "    df['is_error'] = df.is_error.astype(int)\n",
    "    df['dt'] = df.timestamp.map(lambda x: dt.fromtimestamp(x-TIMEZONE*3600))\n",
    "    \n",
    "    # merge with voting addreses  (wallet and wallet_add)\n",
    "    df2 = pd.read_csv('data/data_rounds.csv')\n",
    "    \n",
    "    df3 = (df2.groupby(['source_wallet','round_name']).size().unstack() > 0).astype(int)\n",
    "    cols1 = df3.columns\n",
    "    cols2 = ['flg_'+c for c in cols1]\n",
    "    df3.columns = cols2\n",
    "    df3.reset_index(names = 'wallet', inplace = True)\n",
    "    df = df.merge(df3, how = 'left')\n",
    "    for f in cols2:\n",
    "        df[f] = df[f].fillna(0).astype(int)\n",
    "    \n",
    "    df3 = (df2.groupby(['source_wallet','round_name']).size().unstack() > 0).astype(int)\n",
    "    cols1 = df3.columns\n",
    "    cols2 = ['flg_add_'+c for c in cols1]\n",
    "    df3.columns = cols2\n",
    "    df3.reset_index(names = 'wallet_add', inplace = True)\n",
    "    df = df.merge(df3, how = 'left')\n",
    "    for f in cols2:\n",
    "        df[f] = df[f].fillna(0).astype(int)\n",
    "        \n",
    "    # save to file\n",
    "    df.to_csv(f'data/external/v2/trnx/df{fold}{chunk}.csv', index = False)\n",
    "    print(df.shape)"
   ]
  }
 ],
 "metadata": {
  "kernelspec": {
   "display_name": "Python 3",
   "language": "python",
   "name": "python3"
  },
  "language_info": {
   "codemirror_mode": {
    "name": "ipython",
    "version": 3
   },
   "file_extension": ".py",
   "mimetype": "text/x-python",
   "name": "python",
   "nbconvert_exporter": "python",
   "pygments_lexer": "ipython3",
   "version": "3.8.5"
  }
 },
 "nbformat": 4,
 "nbformat_minor": 5
}
