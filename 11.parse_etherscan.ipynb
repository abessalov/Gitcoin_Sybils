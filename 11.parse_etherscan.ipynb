{
 "cells": [
  {
   "cell_type": "markdown",
   "id": "c29f0356-3aae-4307-9dd9-67e675b27b30",
   "metadata": {},
   "source": [
    "### Getting transactions by using Etherscan API"
   ]
  },
  {
   "cell_type": "markdown",
   "id": "62730202-50e0-42eb-8fc6-428760f6b7f3",
   "metadata": {},
   "source": [
    "### 1. Prepare data"
   ]
  },
  {
   "cell_type": "code",
   "execution_count": 1,
   "id": "12871b4e-a479-4b2f-a7f6-a8fc43c83c97",
   "metadata": {},
   "outputs": [
    {
     "name": "stdout",
     "output_type": "stream",
     "text": [
      "(81387, 2)\n",
      "(20347, 2)\n"
     ]
    }
   ],
   "source": [
    "folds_num = 4\n",
    "fold = 0\n",
    "\n",
    "# create valid unique wallets\n",
    "df1 = pd.read_csv('data/data_rounds.csv')\n",
    "list_rounds = [\n",
    "    '1_gitcoin_gr15',\n",
    "    '2_unicef',\n",
    "    '3_fantom',\n",
    "    '41_gitcoin_climate',\n",
    "    '42_gitcoin_ethereum',\n",
    "    '43_gitcoin_oss'\n",
    "]\n",
    "df2 = pd.DataFrame({\n",
    "    'wallet': df1[df1.round_name.isin(list_rounds)].source_wallet.unique()\n",
    "})\n",
    "df2 = df2\n",
    "df2['fold'] = [i % folds_num for i in range(len(df2))]\n",
    "print(df2.shape)\n",
    "df2 = df2[df2.fold == fold]\n",
    "print(df2.shape)"
   ]
  },
  {
   "cell_type": "markdown",
   "id": "020e3271-09a5-4e19-9883-1c07c40480de",
   "metadata": {},
   "source": [
    "### 2. Parse transactions"
   ]
  },
  {
   "cell_type": "code",
   "execution_count": 2,
   "id": "2d3767ac-bf08-4518-82e0-669bfb212332",
   "metadata": {
    "tags": []
   },
   "outputs": [
    {
     "name": "stderr",
     "output_type": "stream",
     "text": [
      "100%|██████████████████████████████████████████████████████████████████████████| 20347/20347 [5:06:08<00:00,  1.11it/s]\n"
     ]
    }
   ],
   "source": [
    "import requests\n",
    "import pickle\n",
    "YourApiKeyToken = '' # insert your token\n",
    "\n",
    "list_wallet  = list()\n",
    "list_resp = list()\n",
    "\n",
    "for wallet in tqdm(df2.wallet):\n",
    "    try:\n",
    "        url = f'''https://api.etherscan.io/api\n",
    "           ?module=account\n",
    "           &action=txlist\n",
    "           &address={wallet}\n",
    "           &startblock=0\n",
    "           &endblock=99999999\n",
    "           &page=1\n",
    "           &offset=10000\n",
    "           &sort=desc\n",
    "           &apikey={YourApiKeyToken}'''\n",
    "        url = ''.join([u.strip() for u in url.split('\\n')])\n",
    "\n",
    "        resp = requests.get(url,timeout = 20)\n",
    "        if resp.status_code != 200:\n",
    "            print('blocked')\n",
    "            break\n",
    "        list_wallet.append(wallet)\n",
    "        list_resp.append(resp)\n",
    "    except:\n",
    "        print(wallet)\n",
    "\n",
    "# save to pickle\n",
    "pd.DataFrame({\n",
    "    'wallet': list_wallet,\n",
    "    'resp': list_resp,\n",
    "}).to_pickle(f'data/external/df{fold}.pkl')"
   ]
  }
 ],
 "metadata": {
  "kernelspec": {
   "display_name": "Python 3",
   "language": "python",
   "name": "python3"
  },
  "language_info": {
   "codemirror_mode": {
    "name": "ipython",
    "version": 3
   },
   "file_extension": ".py",
   "mimetype": "text/x-python",
   "name": "python",
   "nbconvert_exporter": "python",
   "pygments_lexer": "ipython3",
   "version": "3.8.5"
  }
 },
 "nbformat": 4,
 "nbformat_minor": 5
}
